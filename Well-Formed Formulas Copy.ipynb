{
 "cells": [
  {
   "cell_type": "markdown",
   "id": "42a667",
   "metadata": {
    "collapsed": false
   },
   "source": [
    "# Well-Formed Formulas\n",
    "\n",
    "In this project you will design a Python class to represent the well\\-formed formulas \\(WFFs\\) covered in MATH0005 Algebra 1. You will write class methods that evaluate a WFF at a given truth assignment and that produce a string representation of a WFF suitable for use with the Python `print` function.  You will also write a functions for checking logical equivalences between WFFs represented by instances of your class. Finally, you will write a _parser_ which takes a WFF represented by a Python string, like `\"((¬p ∧ q) ∨ ((r ∧ ¬q) → p))\"`, as input and returns the corresponding object of your WFF class.\n",
    "\n"
   ]
  },
  {
   "cell_type": "markdown",
   "id": "9c73cd",
   "metadata": {
    "collapsed": false
   },
   "source": [
    "## Part 1 - the WFF class and subclasses\n",
    "\n",
    "Often when we write classes we come across a situation where one type of object is a special kind of another type. For example, we might have a class `Person` representing people and a class `Student` representing students. Every student is also a person, so every `Student` object should also be a `Person` and be able to do everything a `Person` can do. We say that the class `Student` is a *subclass* of `Person` and that the `Student` should *inherit* the methods and instance variables from `Person`.  To make this happen we define the `Person` class as usual and then do this:\n",
    "\n",
    "```python\n",
    "class Student(Person):\n",
    "    # class definition goes here\n",
    "```\n",
    "\n",
    "Writing `Student(Person)` ensures that a `Student` is a special kind of `Person` and that an instance of the `Student` class will be able to use any methods and access any instance variables defined in `Person`.\n",
    "\n",
    "In Algebra 1 you saw that there were five different kinds of WFF:\n",
    "\n",
    " - (0) a propositional variable\n",
    " - (1) a WFF of the form $\\neg \\phi$, where $\\phi$ is a WFF\n",
    " - (2) a WFF of the form $(\\phi \\vee \\psi)$, where $\\phi$ and $\\psi$ are WFFs\n",
    " - (3) a WFF of the form $(\\phi \\wedge \\psi)$, where $\\phi$ and $\\psi$ are WFFs\n",
    " - (4) a WFF of the form $(\\phi \\implies \\psi)$, where $\\phi$ and $\\psi$ are WFFs\n",
    "\n",
    "Each of these is a \"special kind of WFF\", so we will use a single class `WFF` with five subclasses `PropVarWFF`, `NotWFF`, `AndWFF`, `OrWFF`, and `ImpliesWFF` to represent our formulas.  \n",
    "\n",
    "The classes `AndWFF`, `OrWFF`, and `ImpliesWFF` will each have two instance variables `left` and `right` which represent the WFFs on the left and the right of the connective. As an example, given two `WFF`s `phi` and `psi` (of any kind) people using the class must be able to create an `AndWFF` that represents `(phi ∧ psi)` by calling `AndWFF(phi, psi)`, which should set the `left` instance variable of the `AndWFF` object to `phi` and the `right` instance variable to `psi`.\n",
    "\n",
    "The class `NotWFF` should have a single instance variable `formula`, which will be a `WFF` of any kind. `NotWFF(formula)` will represent `¬ formula`.\n",
    "\n",
    "The class `PropVarWFF` will have a single instance variable `name`, which will be a string. `PropVarWFF(\"p\")`, for example, will represent a WFF which is a propositional variable called `p`.\n",
    "\n",
    "**Write the `__init__` method for each of these five classes in the code cells below**.  Don't make any changes to the `WFF` class itself yet.  I have written the `__init__` function for `AndWFF` for you.\n",
    "\n",
    "At the moment these classes won't do anything at all (in fact, trying to run the cells will give an error because the class bodies are empty). We will add functionality in the next three parts.\n",
    "\n"
   ]
  },
  {
   "cell_type": "markdown",
   "id": "97f3f4",
   "metadata": {
    "collapsed": false
   },
   "source": [
    "## Part 2 - implementing `__str__(self)`\n",
    "\n",
    "In this part your task is to **write an `__str__(self)` method for each of the five classes `PropVarWFF`, `NotWFF`, `AndWFF`, `OrWFF`, and `ImpliesWFF`**.  You must put your code in the cells above where you wrote the `__init__` methods.  Don't copy the class definitions into a different cell.\n",
    "\n",
    "Recall that `__str__(self)` must return a string representing `self`, and that once a class has an `__str__(self)` method, `print`ing an instance of that class will display the string produced by `__str__`.  \n",
    "\n",
    "Writing the `__str__(self)` method for the `PropVarWFF` class will be easy since it already has the name of the propositional variable as an instance variable.  It just needs to return the instance variable `self.name`.  On the other hand the `__str__(self)` method of the `NotWFF` class should print out a `¬` symbol and then the string representation of the `formula` instance variable, so you will have to call the `__str__` method of `self.formula`. Recall that you can join two strings together with `+`.\n",
    "\n",
    "The other three classes are similar to `NotWFF` in that you will have to call the `__str__` method of the two instance variables `self.left` and `self.right`, and combine these with brackets and the symbol for the relevant logical connective.\n",
    "\n",
    "You can copy and paste the following symbols: ¬ ∨ ∧ ⇒ for use in your implementations of `__str__`.\n",
    "\n",
    "I have included some test cases below followed by a comment specifying the correct output. **Your code must give the correct output in each of these cases** although you will not lose marks for having more or less spaces in your output. Please remember that just because your implementations of `__str__` work for these cases does not mean that they work for *any* WFF, and to get full marks your code must be correct in general.  You may want to add further tests to see if your code works for other WFFs.\n",
    "\n"
   ]
  },
  {
   "cell_type": "code",
   "execution_count": 53,
   "id": "ecb3c7",
   "metadata": {
    "collapsed": false
   },
   "outputs": [
   ],
   "source": [
    "\n",
    "from itertools import product\n",
    "\n",
    "\n",
    "class WFF():\n",
    "  \n",
    "    # parent class, representing a WFF\n",
    "\n",
    "    def equiv(self, other, variables):\n",
    "        all_truth_assignments = list(product([True, False], repeat=len(variables)))\n",
    "\n",
    "        for ta_values in all_truth_assignments:\n",
    "            ta = dict(zip(variables, ta_values))\n",
    "            if self.eval(ta) != other.eval(ta):\n",
    "                return False\n",
    "\n",
    "        return True\n",
    "    \n",
    "    \n",
    "\n",
    "        "
   ]
  },
  {
   "cell_type": "code",
   "execution_count": 54,
   "id": "2244a8",
   "metadata": {
    "collapsed": false
   },
   "outputs": [
   ],
   "source": [
    "class PropVarWFF(WFF):\n",
    "    # class representing a propositional variable considered as a WFF\n",
    "    def __init__(self,name):\n",
    "        self.name = name\n",
    "    def __str__(self):\n",
    "        return self.name\n",
    "\n",
    "    def eval(self, ta):\n",
    "        return ta[self.name]"
   ]
  },
  {
   "cell_type": "code",
   "execution_count": 55,
   "id": "4b0c09",
   "metadata": {
    "collapsed": false
   },
   "outputs": [
   ],
   "source": [
    "class NotWFF(WFF):\n",
    "    # class representing a WFF of the form ¬ϕ\n",
    "    def __init__(self, formula):\n",
    "        self.formula = formula\n",
    "    def __str__(self):\n",
    "        return \"¬\" + str(self.formula)\n",
    "\n",
    "    def eval(self, ta):\n",
    "        return not self.formula.eval(ta)"
   ]
  },
  {
   "cell_type": "code",
   "execution_count": 56,
   "id": "6a4dd1",
   "metadata": {
    "collapsed": false
   },
   "outputs": [
   ],
   "source": [
    "class AndWFF(WFF):\n",
    "    # class representing a WFF of the form (φ ∧ ψ)\n",
    "    def __init__(self, left, right):\n",
    "        self.left = left\n",
    "        self.right = right\n",
    "    def __str__(self):\n",
    "        return \"(\" + str(self.left) + \" ∧ \" + str(self.right) + \")\"\n",
    "\n",
    "    def eval(self, ta):\n",
    "        return self.left.eval(ta) and self.right.eval(ta)"
   ]
  },
  {
   "cell_type": "code",
   "execution_count": 71,
   "id": "1d9392",
   "metadata": {
    "collapsed": false,
    "scrolled": true
   },
   "outputs": [
   ],
   "source": [
    "class OrWFF(WFF):\n",
    "    # class representing a WFF of the form (φ ∨ ψ)\n",
    "    def __init__(self,left,right):\n",
    "        self.left = left\n",
    "        self.right = right\n",
    "    def __str__(self):\n",
    "        return \"(\" + str(self.left) + \" ∨ \" + str(self.right) + \")\"\n",
    "\n",
    "    def eval(self, ta):\n",
    "        return self.left.eval(ta) or self.right.eval(ta)"
   ]
  },
  {
   "cell_type": "code",
   "execution_count": 72,
   "id": "4ba2ec",
   "metadata": {
    "collapsed": false
   },
   "outputs": [
   ],
   "source": [
    "class ImpliesWFF(WFF):\n",
    "    # class representing a WFF of the form (φ ⇒ ψ)\n",
    "    def __init__(self,left,right):\n",
    "        self.left = left\n",
    "        self.right = right\n",
    "    def __str__(self):\n",
    "        return \"(\" + str(self.left) + \" ⇒ \" + str(self.right) + \")\"\n",
    "\n",
    "    def eval(self, ta):\n",
    "        return (not self.left.eval(ta)) or self.right.eval(ta)"
   ]
  },
  {
   "cell_type": "code",
   "execution_count": 73,
   "id": "a3ae9c",
   "metadata": {
    "collapsed": false
   },
   "outputs": [
    {
     "name": "stdout",
     "output_type": "stream",
     "text": [
      "p\n",
      "q\n",
      "¬p\n",
      "(p ∧ q)\n",
      "(q ∨ p)\n",
      "(p ⇒ q)\n",
      "(q ∧ (p ∨ q))\n",
      "(p ⇒ ¬(q ∧ r))\n",
      "(p ∧ (q ∧ r))\n"
     ]
    }
   ],
   "source": [
    "p = PropVarWFF(\"p\")\n",
    "q = PropVarWFF(\"q\")\n",
    "r = PropVarWFF(\"r\")\n",
    "\n",
    "not_p = NotWFF(p)\n",
    "p_and_q = AndWFF(p, q)\n",
    "q_or_p = OrWFF(q, p)\n",
    "p_implies_q = ImpliesWFF(p, q)\n",
    "\n",
    "phi = AndWFF(q, OrWFF(p, q))\n",
    "psi = ImpliesWFF(p, NotWFF(AndWFF(q, r)))\n",
    "theta = AndWFF(p, AndWFF(q, r))\n",
    "\n",
    "print(p) # correct output: p\n",
    "print(q) # correct output: q\n",
    "\n",
    "print(not_p) # correct output: ¬p\n",
    "print(p_and_q) # correct output: (p ∧ q)\n",
    "print(q_or_p) # correct output: (q ∨ p)\n",
    "print(p_implies_q) # correct output: (p ⇒ q)\n",
    "\n",
    "print(phi) # correct output: (q ∧ (p ∨ q))\n",
    "print(psi) # correct output: (p ⇒ ¬(q ∧ r))\n",
    "print(theta) # correct output: (p ∧ (q ∧ r))"
   ]
  },
  {
   "cell_type": "markdown",
   "id": "872be6",
   "metadata": {
    "collapsed": false
   },
   "source": [
    "## Part 3 - evaluating at a truth assignment\n",
    "\n",
    "Recall that a truth assignment is a function that maps a set of propositional variables to truth values. We will represent truth assignments using dictionaries whose keys are strings (the names of the propositional variables) and whose values are `bool`s. For example\n",
    "\n",
    "```python\n",
    "ta = {\"p\": True, \"q\": False, \"r\": True}\n",
    "```\n",
    "\n",
    "represents a truth assignment on the propositional variables p, q, and r making p true, q false, and r true.\n",
    "\n",
    "**For each of the five classes above, write a class method `eval(self, ta)` which returns the truth value of the WFF under the truth assignment `ta`**.  Your code must go in the code cells at the top of this notebook - don't copy the class definitions into the cells below.  You can assume that `ta` contains the name of every propositional variable involved in the WFF as a key.\n",
    "\n",
    "For the `PropVarWFF` class, writing the `eval(self, ta)` method is easy: it should just return the value `ta[self.name]`.  For the other classes you will need to use the Python logical operators `and`, `or`, `not` to compute the correct truth value in terms of the truth values for `self.left` and `self.right` (or `self.formula` in the case of `NotWFF`), just like you worked out the string representation for a WFF using the string representations of its component parts in Part 2 of this notebook.\n",
    "\n",
    "I have written a few test cases in the cell below, but again *just because your code works in these cases does not mean that it is correct in general.* You will definitely want to create your own tests to help verify that your code is correct.  When you've written your code and want to test it, you must re-run the cell that defines the WFFs `p`, `p_and_q`, ... first.\n",
    "\n"
   ]
  },
  {
   "cell_type": "code",
   "execution_count": 75,
   "id": "abaca7",
   "metadata": {
    "collapsed": false
   },
   "outputs": [
    {
     "name": "stdout",
     "output_type": "stream",
     "text": [
      "True\n",
      "False\n",
      "False\n",
      "True\n",
      "False\n",
      "True\n"
     ]
    }
   ],
   "source": [
    "ta1 = {\"p\": True, \"q\": False, \"r\": True}\n",
    "ta2 = {\"p\": True, \"q\": True, \"r\": False}\n",
    "\n",
    "print(p.eval(ta1)) # correct output: True\n",
    "print(r.eval(ta2)) # correct output: False\n",
    "\n",
    "print(p_and_q.eval(ta1)) # correct output: False\n",
    "print(q_or_p.eval(ta1)) # correct output: True\n",
    "print(p_implies_q.eval(ta1)) # correct output: False\n",
    "\n",
    "print(phi.eval(ta2)) # correct output: True"
   ]
  },
  {
   "cell_type": "markdown",
   "id": "07c141",
   "metadata": {
    "collapsed": false
   },
   "source": [
    "## Part 4 - logical equivalences\n",
    "\n",
    "We haven't put anything into the `WFF` class itself yet because the code we wrote wasn't the same for all of our five subclasses.  In this part your task is to **add a method `equiv(self, other, variables)` to the `WFF` class**.  Don't add it to any of the subclasses, just to the WFF class.  Because all of the other classes inherit from `WFF`, objects of any of our five subclasses will be able to call the `equiv` method.\n",
    "\n",
    "`equiv(self, other, variables)` should return `True` if the WFFs represented by `self` and `other` are logically equivalent, and `False` otherwise.  The argument `variables` will be a list of strings, the names of the propositional variables involved in `self` and `other` (really we could work these out from `self` and `other`, but I'm including the list of variables as an argument to keep things simple).\n",
    "\n",
    "Recall that two WFFs are said to be logically equivalent if they have the same truth value under every truth assignment. Since you have already written an `eval(self, ta)` function, all you need to do is to generate all possible truth assignments on the variables from the list `variables` and for each truth assignment `ta` check if `self.eval(ta)` is equal to `other.eval(ta)`.\n",
    "\n",
    "To generate all the truth assignments, you might find the `product` function from the `itertools` module helpful.  `product([1, 2, 3], repeat=n)` generates every tuple of length `n` whose elements are either `1`, `2`, or `3`, that is, it generates the cartesian product of `[1, 2, 3]` with itself `n` times. You could use this tuples to create the four different truth assignment dictionaries for two propositional variables.  The documentation for `itertools.product` is [here](https://docs.python.org/3/library/itertools.html).\n",
    "\n",
    "Once more I have written a few test cases below, but your code must work for all `WFF`s and not just for the examples I have given.  In particular, your code must work for any number of propositional variables, not just 2.\n",
    "\n"
   ]
  },
  {
   "cell_type": "code",
   "execution_count": 76,
   "id": "0b9591",
   "metadata": {
    "collapsed": false
   },
   "outputs": [
   ],
   "source": [
    "from itertools import product\n",
    "\n",
    "class WFF:\n",
    "    def equiv(self, other, variables):\n",
    "        all_truth_assignments = list(product([True, False], repeat=len(variables)))\n",
    "        \n",
    "        for ta_values in all_truth_assignments:\n",
    "            ta = dict(zip(variables, ta_values))\n",
    "            if self.eval(ta) != other.eval(ta):\n",
    "                return False\n",
    "        \n",
    "        return True"
   ]
  },
  {
   "cell_type": "code",
   "execution_count": 77,
   "id": "708b94",
   "metadata": {
    "collapsed": false
   },
   "outputs": [
    {
     "name": "stdout",
     "output_type": "stream",
     "text": [
      "True\n",
      "True\n",
      "True\n",
      "True\n",
      "False\n",
      "False\n",
      "False\n"
     ]
    }
   ],
   "source": [
    "# De Morgan: ¬(p ∨ q) ≡ (¬p ∧ ¬q)\n",
    "print(NotWFF(OrWFF(p, q)).equiv(AndWFF(NotWFF(p), NotWFF(q)), [\"p\", \"q\"])) # correct output: True\n",
    "\n",
    "# p ≡ p\n",
    "print(p.equiv(p, [\"p\"])) # correct output: True\n",
    "\n",
    "# (p ∧ q) ≡ (q ∧ p)\n",
    "print(AndWFF(p, q).equiv(AndWFF(q, p), [\"p\", \"q\"])) # correct output: True\n",
    "\n",
    "# (p ∧ (q ∨ r)) ≡ ((p ∧ q) ∨ (p ∧ r))\n",
    "print(AndWFF(p, OrWFF(q, r)).equiv(OrWFF(AndWFF(p, q), AndWFF(p, r)), [\"p\", \"q\", \"r\"])) # correct output: True\n",
    "\n",
    "# some nonequivalences\n",
    "print(p.equiv(q, [\"q\", \"p\"])) # correct output: False\n",
    "print(NotWFF(OrWFF(p, q)).equiv(AndWFF(NotWFF(p), q), [\"p\", \"q\"])) # correct output: False\n",
    "print(AndWFF(p, OrWFF(q, r)).equiv(OrWFF(AndWFF(p, q), AndWFF(q, r)), [\"p\", \"q\", \"r\"])) # correct output: False"
   ]
  },
  {
   "cell_type": "markdown",
   "id": "ca2cda",
   "metadata": {
    "collapsed": false
   },
   "source": [
    "## Part 5 - parsing strings into WFFs\n",
    "\n",
    "This final part is about writing a [parser](https://en.wikipedia.org/wiki/Parsing), which in our case will be a function `parse` which takes as input a Python string like \n",
    "\n",
    " - `\"p\"`\n",
    " - `\"(p ∧ q)\"`\n",
    " - `\"((¬p ∨ q) ⇒ r)\"`\n",
    " \n",
    "\n",
    "and returns the object of your WFF class described by that string - in these examples,\n",
    "\n",
    " - `PropVarWFF(\"p\")`\n",
    " - `AndWFF(PropVarWFF(\"p\"), PropVarWFF(\"q\"))`\n",
    " - `ImpliesWFF(OrWFF(NotWFF(PropVarWFF(\"p\"), PropVarWFF(\"q\"))), PropVarWFF(\"r\"))`.\n",
    "\n",
    "On the other hand, if the string does not describe a valid WFF, e.g. `()p¬q∨`, or `p ∨ q`, or `)`, then `parse` should raise an error.\n",
    "\n",
    "We will adopt strict rules about the input to the `parse` function: it is only allowed to contain the symbols ()¬∧∨→, spaces, and lower case English letters a-z.  All propositional variables will have single character names like \"p\", \"q\", and \"r\".  Your parse function is not required to work with strings that don't follow these rules.\n",
    "\n",
    "Here is how the parse function will work when given an input string `s`.  First, we will delete any spaces from `s` so that it only contains variable names and symbols ()¬∧∨⇒.  Next, remember that every WFF is either a propositional variable or is of the form \n",
    "\n",
    "1. $\\neg \\phi$\n",
    "2. $(\\phi \\vee \\psi)$\n",
    "3. $(\\phi \\wedge \\psi)$,\n",
    "4. $(\\phi \\implies \\psi)$\n",
    "   \n",
    "\n",
    "where $\\phi$ and $\\psi$ are smaller WFFs.  The *last* connective used when constructing a WFF using a sequence of these rules is called its *principal connective*, so in a formula of type 4 like ((¬p ∨ q) ⇒ r), the principle connective is the ⇒, in the type 2 formula ((p ∨ q) **∨** (r ∧ (p ∨ p))), the principal connective is the bold **∨**, and in ¬(¬p ∨ q) the principal connective is the leftmost ¬.\n",
    "\n",
    "That means our `parse` function can do the following.  \n",
    "\n",
    " - If the input has length 0, it does not represent a valid WFF so `parse` should raise an error.\n",
    " - If the input has length 1, it consists of a single character.  Either that character is a lower case English letter e.g. `p` in which case `parse` should return `PropVarWFF(\"p\")`, or it is some another character in which case `parse` should raise an error.\n",
    "  - If the input `s` has length longer than 1, it must, if it is valid, represent a WFF of one of the four types listed above.  For example, if `s` is of the first type, it must start with the symbol `¬` and then the remainder `s[1:]` (this is a *slice* of a string - look up the syntax in the weekly notebooks if you don't remember how it works) of the string will be another valid WFF, so `parse` can return `NotWFF(parse(s[1:])`.  The parse function will therefore call itself - a parser that does this is called *recursive*.  On the other hand, if `s` is of the second type, it must consist of an open bracket, then a string representing a WFF, then the principal connective ∨, then a string representing another WFF, then a close bracket. The parser should therefore return `OrWFF(parse(s[?:?]), parse[?:?])` where the ? are chosen so that the parse function is called on the two WFFs being connected by the principal ∨.  WFFs of types 3 and 4 can be done similarly.\n",
    "\n",
    "You're nearly ready to write `parse(s)` now, but there's still one major problem.  If `s` is a valid WFF with more than one character, it must be of one of the four types above.  How can we figure out which of the four types it is, and locate the principal connective?  This is easy for type 1: we just have to check if the first character of the string is a ¬.  For the others, you can use the following technique.  Suppose `s` is a string of length greater than 1 which is a valid WFF and that it does not start with ¬.  Read through `s` from left to right, starting at position 0, keeping a \"bracket count.\"  Every time an open bracket appears, increase the bracket count by 1.  Every time a close bracket appears, decrease the bracket count by 1.  It is then a theorem that there is a unique connective that occurs at a point in the string where the bracket count is 1, and this is the principal connective.  (You can try and prove this if you like, but you don't need to do that for the project).  Here are two examples:\n",
    "\n",
    "```\n",
    "string:        ( ( ¬ p ∨ q ) ⇒ r )\n",
    "bracket count: 1 2 2 2 2 2 1 1  1 0\n",
    "\n",
    "string:        ( ( p ∨ q ) ∨ ( r ∧ ( p ∨ p ) ) )\n",
    "bracket count: 1 2 2 2 2 1 1 2 2 2 3 3 3 3 2 1 0\n",
    "```\n",
    "\n",
    "In both cases there is a unique connective which occurs when the bracket count is 1, and that connective is the principal connective.\n",
    "\n",
    "In summary, here's how `parse(s)` will work.\n",
    "\n",
    "1. remove any spaces from `s`\n",
    "2. if the length of `s` is 0, raise an error\n",
    "3. if the length of `s` is 1, either return an appropriate `PropVarWFF` (if `s` is a letter) or otherwise raise an error\n",
    "4. if the first character of `s` is a ¬, return `NotWFF(parse(s[1:])`\n",
    "5. otherwise, try to locate the principal connective using the bracket count method.  If you find a connective with bracket count 1 and it was ∨, for example, then return `OrWFF(parse(s[?:?]), parse[?:?])` with the ? filled in correctly.\n",
    "6. if you didn't find a connective with bracket count 1 then `s` is not a WFF, so raise an error.\n",
    "\n",
    "I have written the outline of the function for you below.  Complete it and then use the cells after to test it.\n",
    "\n"
   ]
  },
  {
   "cell_type": "code",
   "execution_count": 83,
   "id": "681da9",
   "metadata": {
    "collapsed": false
   },
   "outputs": [
   ],
   "source": [
    "def parse(s):\n",
    "    \"Recursively parse the string s into a WFF, or raise an error if that is not possible\"\n",
    "    # 1. Remove any spaces from s.  Find out how to do this by reading\n",
    "    # https://docs.python.org/3/library/stdtypes.html#str\n",
    "    s = s.replace(\" \", \"\")\n",
    "\n",
    "    # 2. If the length of s is 0, raise an error.  I've done this for you to show you how\n",
    "    # to raise errors in Python.\n",
    "    if len(s) == 0:\n",
    "        raise ValueError(\"Input is not a valid WFF.\")\n",
    "        # The line above makes Python stop execution and print the given error message.\n",
    "\n",
    "    # 3. Deal with the case when s has length 1\n",
    "    if len(s) == 1:\n",
    "        # Check if s is an English letter. If so, return a PropVarWFF. Otherwise, raise an error.\n",
    "        if s.isalpha:\n",
    "            return PropVarWFF(s)\n",
    "        else:\n",
    "            raise ValueError(\"Input is not a valid WFF.\")\n",
    "\n",
    "    # 4. Special case: s starts with a negation symbol\n",
    "    if s[0] == \"¬\":\n",
    "        return NotWFF(parse(s[1:]))\n",
    "\n",
    "    # 5. Now you can assume s has length larger than 1 and doesn't start with ¬\n",
    "    # You need to look for a principal connective, using the method described above.\n",
    "    # If you find one, return an appropriate WFF.\n",
    "    bracket_count = 0\n",
    "    for i, character in enumerate(s):\n",
    "        if character == \"(\":\n",
    "            bracket_count += 1\n",
    "        elif character == \")\":\n",
    "            bracket_count -= 1\n",
    "        elif bracket_count == 1 and (character == \"∧\" or character == \"∨\" or character == \"⇒\"):  # this determines the place of the principle connective in the string\n",
    "            left_side = s[1:i]\n",
    "            right_side = s[i+1 : -1]\n",
    "            # next we determine the specific WFF:\n",
    "            if character == \"∧\":\n",
    "                return AndWFF(parse(left_side), parse(right_side))\n",
    "            if character == \"∨\":\n",
    "                return OrWFF(parse(left_side), parse(right_side))\n",
    "            if character == \"⇒\":\n",
    "                return ImpliesWFF(parse(left_side), parse(right_side))\n",
    "\n",
    "    # 6. There was no principal connective in the string you're trying to parse. Raise an error.\n",
    "    raise ValueError(\"No principle connective found.\")\n"
   ]
  },
  {
   "cell_type": "code",
   "execution_count": 84,
   "id": "59037a",
   "metadata": {
    "collapsed": false
   },
   "outputs": [
    {
     "ename": "ValueError",
     "evalue": "No principle connective found.",
     "output_type": "error",
     "traceback": [
      "\u001b[0;31m---------------------------------------------------------------------------\u001b[0m",
      "\u001b[0;31mValueError\u001b[0m                                Traceback (most recent call last)",
      "Cell \u001b[0;32mIn[84], line 2\u001b[0m\n\u001b[1;32m      1\u001b[0m \u001b[38;5;66;03m# TESTS\u001b[39;00m\n\u001b[0;32m----> 2\u001b[0m w0 \u001b[38;5;241m=\u001b[39m \u001b[43mparse\u001b[49m\u001b[43m(\u001b[49m\u001b[38;5;124;43m\"\u001b[39;49m\u001b[38;5;124;43m)(a¬\u001b[39;49m\u001b[38;5;124;43m\"\u001b[39;49m\u001b[43m)\u001b[49m\n",
      "Cell \u001b[0;32mIn[83], line 46\u001b[0m, in \u001b[0;36mparse\u001b[0;34m(s)\u001b[0m\n\u001b[1;32m     43\u001b[0m             \u001b[38;5;28;01mreturn\u001b[39;00m ImpliesWFF(parse(left_side), parse(right_side))\n\u001b[1;32m     45\u001b[0m \u001b[38;5;66;03m# 6. There was no principal connective in the string you're trying to parse. Raise an error.\u001b[39;00m\n\u001b[0;32m---> 46\u001b[0m \u001b[38;5;28;01mraise\u001b[39;00m \u001b[38;5;167;01mValueError\u001b[39;00m(\u001b[38;5;124m\"\u001b[39m\u001b[38;5;124mNo principle connective found.\u001b[39m\u001b[38;5;124m\"\u001b[39m)\n",
      "\u001b[0;31mValueError\u001b[0m: No principle connective found."
     ]
    }
   ],
   "source": [
    "# TESTS\n",
    "w0 = parse(\")(a¬\") # should be an error."
   ]
  },
  {
   "cell_type": "code",
   "execution_count": 85,
   "id": "d1b25b",
   "metadata": {
    "collapsed": false
   },
   "outputs": [
    {
     "name": "stdout",
     "output_type": "stream",
     "text": [
      "<class '__main__.PropVarWFF'> p\n",
      "<class '__main__.NotWFF'> ¬q\n",
      "<class '__main__.AndWFF'> (p ∧ q)\n"
     ]
    }
   ],
   "source": [
    "w1 = parse(\"p\")\n",
    "print(type(w1), w1) # should be a PropVarWFF\n",
    "w2 = parse(\"¬q\")\n",
    "print(type(w2), w2)\n",
    "w3 = parse(\"(p ∧ q)\")\n",
    "print(type(w3), w3)\n",
    "# Now write test cases for one-connective WFFs with ∨ and ⇒"
   ]
  },
  {
   "cell_type": "code",
   "execution_count": 86,
   "id": "16a921",
   "metadata": {
    "collapsed": false
   },
   "outputs": [
    {
     "ename": "ValueError",
     "evalue": "No principle connective found.",
     "output_type": "error",
     "traceback": [
      "\u001b[0;31m---------------------------------------------------------------------------\u001b[0m",
      "\u001b[0;31mValueError\u001b[0m                                Traceback (most recent call last)",
      "Cell \u001b[0;32mIn[86], line 1\u001b[0m\n\u001b[0;32m----> 1\u001b[0m w4 \u001b[38;5;241m=\u001b[39m \u001b[43mparse\u001b[49m\u001b[43m(\u001b[49m\u001b[38;5;124;43m\"\u001b[39;49m\u001b[38;5;124;43mp ∧ q\u001b[39;49m\u001b[38;5;124;43m\"\u001b[39;49m\u001b[43m)\u001b[49m\n",
      "Cell \u001b[0;32mIn[83], line 46\u001b[0m, in \u001b[0;36mparse\u001b[0;34m(s)\u001b[0m\n\u001b[1;32m     43\u001b[0m             \u001b[38;5;28;01mreturn\u001b[39;00m ImpliesWFF(parse(left_side), parse(right_side))\n\u001b[1;32m     45\u001b[0m \u001b[38;5;66;03m# 6. There was no principal connective in the string you're trying to parse. Raise an error.\u001b[39;00m\n\u001b[0;32m---> 46\u001b[0m \u001b[38;5;28;01mraise\u001b[39;00m \u001b[38;5;167;01mValueError\u001b[39;00m(\u001b[38;5;124m\"\u001b[39m\u001b[38;5;124mNo principle connective found.\u001b[39m\u001b[38;5;124m\"\u001b[39m)\n",
      "\u001b[0;31mValueError\u001b[0m: No principle connective found."
     ]
    }
   ],
   "source": [
    "w4 = parse(\"p ∧ q\") # should be an error - there are no brackets"
   ]
  },
  {
   "cell_type": "code",
   "execution_count": 87,
   "id": "cd8750",
   "metadata": {
    "collapsed": false
   },
   "outputs": [
    {
     "name": "stdout",
     "output_type": "stream",
     "text": [
      "((¬p ∨ q) ⇒ r)\n"
     ]
    }
   ],
   "source": [
    "w5 = parse(\"((¬p ∨ q) ⇒ r)\")\n",
    "print(w5)"
   ]
  }
 ],
 "metadata": {
  "kernelspec": {
   "argv": [
    "/usr/bin/python3",
    "-m",
    "ipykernel",
    "--HistoryManager.enabled=False",
    "--matplotlib=inline",
    "-c",
    "%config InlineBackend.figure_formats = set(['retina'])\nimport matplotlib; matplotlib.rcParams['figure.figsize'] = (12, 7)",
    "-f",
    "{connection_file}"
   ],
   "display_name": "Python 3 (system-wide)",
   "env": {
   },
   "language": "python",
   "metadata": {
    "cocalc": {
     "description": "Python 3 programming language",
     "priority": 100,
     "url": "https://www.python.org/"
    }
   },
   "name": "python3",
   "resource_dir": "/ext/jupyter/kernels/python3"
  },
  "language_info": {
   "codemirror_mode": {
    "name": "ipython",
    "version": 3
   },
   "file_extension": ".py",
   "mimetype": "text/x-python",
   "name": "python",
   "nbconvert_exporter": "python",
   "pygments_lexer": "ipython3",
   "version": "3.10.12"
  }
 },
 "nbformat": 4,
 "nbformat_minor": 4
}